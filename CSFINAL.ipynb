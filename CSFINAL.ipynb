{
  "nbformat": 4,
  "nbformat_minor": 5,
  "metadata": {
    "kernelspec": {
      "display_name": "Python 3",
      "language": "python",
      "name": "python3"
    },
    "language_info": {
      "codemirror_mode": {
        "name": "ipython",
        "version": 3
      },
      "file_extension": ".py",
      "mimetype": "text/x-python",
      "name": "python",
      "nbconvert_exporter": "python",
      "pygments_lexer": "ipython3",
      "version": "3.8.8"
    },
    "colab": {
      "name": "CSFINAL.ipynb",
      "provenance": [],
      "collapsed_sections": []
    }
  },
  "cells": [
    {
      "cell_type": "code",
      "metadata": {
        "id": "XSktAAMJ2amm"
      },
      "source": [
        ""
      ],
      "id": "XSktAAMJ2amm",
      "execution_count": null,
      "outputs": []
    },
    {
      "cell_type": "markdown",
      "metadata": {
        "id": "494d5807"
      },
      "source": [
        "# Comparative Statement Final"
      ],
      "id": "494d5807"
    },
    {
      "cell_type": "markdown",
      "metadata": {
        "id": "f00a89de"
      },
      "source": [
        "### Requirements"
      ],
      "id": "f00a89de"
    },
    {
      "cell_type": "code",
      "metadata": {
        "id": "4c6c3566"
      },
      "source": [
        "import openpyxl\n",
        "import getpass\n",
        "import os\n",
        "import numpy\n",
        "import datetime\n",
        "import time\n"
      ],
      "id": "4c6c3566",
      "execution_count": null,
      "outputs": []
    },
    {
      "cell_type": "markdown",
      "metadata": {
        "id": "03f3f451"
      },
      "source": [
        "#### loading workbook\n"
      ],
      "id": "03f3f451"
    },
    {
      "cell_type": "code",
      "metadata": {
        "id": "2f2372ab"
      },
      "source": [
        "workbook = openpyxl.load_workbook(\"Comparative Statement.xlsx\")"
      ],
      "id": "2f2372ab",
      "execution_count": null,
      "outputs": []
    },
    {
      "cell_type": "code",
      "metadata": {
        "id": "ec71c986"
      },
      "source": [
        "sheet = workbook['3']"
      ],
      "id": "ec71c986",
      "execution_count": null,
      "outputs": []
    },
    {
      "cell_type": "code",
      "metadata": {
        "id": "295b3470",
        "outputId": "14297693-fab6-42ad-f2cf-5dc191a9b9b7"
      },
      "source": [
        "number_of_contractors = int(input(\"Number of contractors :\")) #number of contractors\n",
        "Name_of_work = input(\"Name of work\") #name of work\n",
        "Ident_number = input(\"Ident Number\") #indent number\n",
        "Amount_to_be_put = float(input(\"Amount to be put on the tender in rupees\")) #amount to be put on tender\n",
        "time_period = int(input(\"tender period in days :\")) #time period in days\n",
        "tpm = time_period/30 #time period in months\n",
        "N = tpm/12 #time period in years\n"
      ],
      "id": "295b3470",
      "execution_count": null,
      "outputs": [
        {
          "output_type": "stream",
          "text": [
            "Number of contractors :3\n",
            "Name of workProviding FHTC's to 154 HHs in Chikkanaji Habitation of Chikkanaji Village, Byadgi Taluk, Haveri Dist through Retrofitting of MVS to Kaginele village and other 26 Villages in Haveri Dist(55 LPCD)\n",
            "Ident NumberRWSSD/2020-21/WS/WORK_INDENT29015\n",
            "Amount to be put on the tender in rupees5019828.82\n",
            "tender period in days :60\n"
          ],
          "name": "stdout"
        }
      ]
    },
    {
      "cell_type": "raw",
      "metadata": {
        "id": "20de43c9"
      },
      "source": [
        "##### Header of Excel"
      ],
      "id": "20de43c9"
    },
    {
      "cell_type": "code",
      "metadata": {
        "id": "a0aa17e2"
      },
      "source": [
        "sheet['c2'] = \"Name of work: \"+ Name_of_work\n",
        "sheet['G3']= \"Amount to be put on tender: \" + str(Amount_to_be_put)\n",
        "sheet['c3'] = \"Indent No: \" + Ident_number\n",
        "sheet['F3'] = \"SD: \" + str(Amount_to_be_put*0.03)\n",
        "sheet['E3'] = \"EMD: \" + str(\"forulatowrite\")"
      ],
      "id": "a0aa17e2",
      "execution_count": null,
      "outputs": []
    },
    {
      "cell_type": "markdown",
      "metadata": {
        "id": "3b19e112"
      },
      "source": [
        "#### Requirements"
      ],
      "id": "3b19e112"
    },
    {
      "cell_type": "code",
      "metadata": {
        "id": "9e4b8ad9"
      },
      "source": [
        "if(Amount_to_be_put<=2500000):\n",
        "    cla_req =4\n",
        "if(Amount_to_be_put <= 20000000):\n",
        "    cla_req =3\n",
        "if(Amount_to_be_put <= 50000000):\n",
        "    cla_req = 2\n",
        "if(Amount_to_be_put>50000000):\n",
        "    cla_req =1"
      ],
      "id": "9e4b8ad9",
      "execution_count": null,
      "outputs": []
    },
    {
      "cell_type": "code",
      "metadata": {
        "id": "08150a27",
        "outputId": "995bb0a0-1d36-4ee5-f562-79f56ac3a3a5"
      },
      "source": [
        "classs = cla_req\n",
        "pip = float(input(\"Pipeline in Mtr : \"))\n",
        "Concrete = float(input(\"Concrete in Cum : \"))\n",
        "UCR = float(input(\"UCR in Cum : \"))\n",
        "Steel = float(input(\"Steel in MT : \"))\n",
        "Pitch = float(input(\"Pitching in Sqm : \"))\n",
        "Bric = float(input(\"Brick Masonry in Cum : \"))\n",
        "end_year= int(input(\"end year :\"))\n"
      ],
      "id": "08150a27",
      "execution_count": null,
      "outputs": [
        {
          "output_type": "stream",
          "text": [
            "Pipeline in Mtr : 3560.80\n",
            "Concrete in Cum : 10.58\n",
            "UCR in Cum : 0\n",
            "Steel in MT : 0\n",
            "Pitching in Sqm : 0\n",
            "Brick Masonry in Cum : 0\n",
            "end year :2020\n"
          ],
          "name": "stdout"
        }
      ]
    },
    {
      "cell_type": "code",
      "metadata": {
        "id": "78751d16"
      },
      "source": [
        "sheet['E8'] = \"Class- \" + str(classs)\n",
        "sheet['E10'] = \"Work Done:- Rs. \" + str(Amount_to_be_put/200000)+ \" lakhs\"\n",
        "sheet['E11'] = \"Pipeline: \" + str(pip)+ \" Mtr\"\n",
        "sheet['E12'] = \"Concrete: \" + str(Concrete)+ \" Cum\"\n",
        "sheet['E13'] = \"UCR: \" + str(UCR)+ \" Cum\"\n",
        "sheet['E14'] = \"Brick Masonry: \" + str(Bric)+ \" Cum\"\n",
        "sheet['E15'] = \"Steel: \" + str(Steel)+ \" MT\"\n",
        "sheet['E16'] = \"Pitching: \" + str(Pitch)+ \" Sqm\"\n",
        "\n",
        "if end_year == 2020:\n",
        "    sheet['E21'] = \"2019-20\"\n",
        "    sheet['E20'] = \"2018-19\"\n",
        "    sheet['E19'] = \"2017-18\"\n",
        "    sheet['E18'] = \"2016-17\"\n",
        "    sheet['E17'] = \"2015-16\"\n",
        "if end_year == 2021:\n",
        "    sheet['E21'] = \"2020-21\"\n",
        "    sheet['E20'] = \"2019-20\"\n",
        "    sheet['E19'] = \"2018-19\"\n",
        "    sheet['E18'] = \"2017-18\"\n",
        "    sheet['E17'] = \"2016-17\"\n",
        "\n",
        "\n",
        "sheet['E22'] = \"Bid Capacity: \" + str(Amount_to_be_put/100000)+ \"Lakhs\"\n",
        "sheet['E24'] = \"Line of Credit - Rs. \" + str((Amount_to_be_put*0.3)/100000)+ \" lakhs\"\n"
      ],
      "id": "78751d16",
      "execution_count": null,
      "outputs": []
    },
    {
      "cell_type": "markdown",
      "metadata": {
        "id": "818ad44f"
      },
      "source": [
        "#### Contractors details\n"
      ],
      "id": "818ad44f"
    },
    {
      "cell_type": "code",
      "metadata": {
        "id": "19655b2d"
      },
      "source": [
        "Name_contractors = []\n",
        "Class_of_contractor= [] #class\n",
        "validity_date_of_license= [] #valid upto\n",
        "PAN_number= [] #PAN\n",
        "GST_number= [] #GST\n",
        "Certificate_authority=[] #certificate\n",
        "Amount_given=[] #amount\n",
        "Pipeline_contractor=[] #pipeline\n",
        "Concrete_contractor=[] #concrete\n",
        "UCR_contractor=[] #UCR\n",
        "Masonry_contractor=[] #masonry\n",
        "Steel_contractor=[] #Steel\n",
        "Pitching_contractor=[] #pitch\n",
        "Details_ongoing_work=[] #details of on going work\n",
        "Contact_number=[] #contact number\n",
        "Address=[] #address\n",
        "Line_of_credit_contractor=[] #lineofcredit\n",
        "Satisfaction_contractor=[] #satisfaction\n",
        "Bank_details=[] #bankdetails\n",
        "comments = [\"None\"]*number_of_contractors\n"
      ],
      "id": "19655b2d",
      "execution_count": null,
      "outputs": []
    },
    {
      "cell_type": "markdown",
      "metadata": {
        "id": "624144a1"
      },
      "source": [
        "#### filling contractors details "
      ],
      "id": "624144a1"
    },
    {
      "cell_type": "code",
      "metadata": {
        "id": "2af3f1e6"
      },
      "source": [
        "#turnover calculation below 1Cr\n",
        "def turnoverb100(A,B,C,D,E,G):\n",
        "    count = 0\n",
        "    if(A>=G):\n",
        "        count +=1\n",
        "    if(B>=G):\n",
        "        count +=1\n",
        "    if(C>=G):\n",
        "        count +=1\n",
        "    if(D>=G):\n",
        "        count+=1\n",
        "    if(E>=G):\n",
        "        count+=1\n",
        "    if(count >= 2):\n",
        "        return 1\n",
        "    return 0 \n",
        "\n",
        "#turnover calculation below 1Cr\n",
        "def turnovera100(A,B,C,D,E,G):\n",
        "    count = 0\n",
        "    if(A>=(2*G)):\n",
        "        count +=1\n",
        "    if(B>=(2*G)):\n",
        "        count +=1\n",
        "    if(C>=(2*G)):\n",
        "        count +=1\n",
        "    if(D>=(2*G)):\n",
        "        count+=1\n",
        "    if(E>=(2*G)):\n",
        "        count+=1\n",
        "    if(count >= 1):\n",
        "        return 1\n",
        "    return 0 \n"
      ],
      "id": "2af3f1e6",
      "execution_count": null,
      "outputs": []
    },
    {
      "cell_type": "code",
      "metadata": {
        "id": "b10e05b1"
      },
      "source": [
        "#calculation maximum of turnovers\n",
        "def maxi(A,B,C,D,E):\n",
        "    maxiu= A\n",
        "    if(B>maxiu):\n",
        "        maxiu = B\n",
        "    if(C>maxiu):\n",
        "        maxiu = C\n",
        "    if(D>maxiu):\n",
        "        maxiu = D\n",
        "    if(E>maxiu):\n",
        "        maxiu = E\n",
        "    return maxiu"
      ],
      "id": "b10e05b1",
      "execution_count": null,
      "outputs": []
    },
    {
      "cell_type": "code",
      "metadata": {
        "id": "a592b043",
        "outputId": "956ed0b5-875e-4f57-9199-75bd3c18ff99"
      },
      "source": [
        "x = ['F','G','H','I','J','K','L']\n",
        "for i in range(number_of_contractors):\n",
        "    name = input(\"Name of contractor \"+str(i) +\" :\")\n",
        "    Name_contractors.append(name)\n",
        "    sheet[x[i]+'5'] = name\n",
        "    clas = int(input(\"Class of Contractor: \"))\n",
        "    Class_of_contractor.append(clas)\n",
        "    PRED_attachment = input(\"Scanned copy of PRED attached Y/N :\")\n",
        "    \n",
        "    if(PRED_attachment == 'Y'):\n",
        "        valid_date = input(\"Expiry date of PRED registration in YYYY-MM-DD format :\")\n",
        "        validity_date_of_license.append(valid_date)\n",
        "    if(PRED_attachment == 'Y'  and clas<=classs):\n",
        "        sheet[x[i]+'8'] = \"Class: \"+str(clas)+\"\\nAttached\\n Valid upto:\"+valid_date+\"\\n Requirement Satisfied\"\n",
        "    elif(PRED_attachment == 'N'  and clas<=classs):\n",
        "        sheet[x[i]+'8'] = \"Class: \"+str(clas)+\"\\nnot attached\\n Requirement Not Satisfied\"\n",
        "        if(comments[i] == \"None\"):\n",
        "            comments[i] = \"Requirement Not Satisfied PRED registration not attached\"\n",
        "        else:\n",
        "            comments[i] += \"\\n Requirement Not Satisfied PRED registration not attached\"\n",
        "    elif(PRED_attachment == 'Y'  and clas>classs):\n",
        "        sheet[x[i]+'8'] = \"Class: \"+str(clas)+\"\\nAttached\\n Valid upto:\"+valid_date+\"\\n Requirement Not Satisfied\"\n",
        "        if(comments[i] == \"None\"):\n",
        "            comments[i] = \"Class Requirement Not Satisfied\"\n",
        "        else:\n",
        "            comments[i] += \"\\n Class Requirement Not Satisfied\"\n",
        "    elif(PRED_attachment == 'N'  and clas>classs):\n",
        "        sheet[x[i]+'8'] = \"Class: \"+str(clas)+\"\\nNot Attached \\n Requirement Not Satisfied\"\n",
        "        if(comments[i] == \"None\"):\n",
        "            comments[i] = \"Class Requirement Not Satisfied PRED registration not attached\"\n",
        "        else:\n",
        "            comments[i] += \"\\n Requirement Not Satisfied PRED registration not attached\"\n",
        "    pan_in = input(\"PAN number: \")\n",
        "    PAN_number.append(pan_in)\n",
        "    gst_in = input(\"GST number: \")\n",
        "    GST_number.append(gst_in)\n",
        "    sheet[x[i]+'9'] = \"PAN: \"+pan_in +\"\\n GST: \"+ gst_in\n",
        "    work_done_certi = input(\"Certificate Authority: \")\n",
        "    Certificate_authority.append(work_done_certi)\n",
        "    \n",
        "    work_done_value = float(input(\"Work done value: \"))\n",
        "    work_done_year = int(input(\"Work done Year furnished: \"))\n",
        "    wrk_year_eval = int(input(\"Evaluvated Year: \"))\n",
        "    work_done_value_eval = -1\n",
        "    if((work_done_year-wrk_year_eval)==0):\n",
        "        work_done_value_eval = work_done_value*1\n",
        "    if((work_done_year-wrk_year_eval)==1):\n",
        "        work_done_value_eval = work_done_value*1.1\n",
        "    if((work_done_year-wrk_year_eval)==2):\n",
        "        work_done_value_eval = work_done_value*1.21\n",
        "    if((work_done_year-wrk_year_eval)==3):\n",
        "        work_done_value_eval = work_done_value*1.33\n",
        "    if((work_done_year-wrk_year_eval)==4):\n",
        "        work_done_value_eval = work_done_value*1.46\n",
        "        \n",
        "    if(work_done_value_eval >= Amount_to_be_put/200000):\n",
        "        sheet[x[i]+'10'] = work_done_certi+ \"\\n (Furnished)\" + str(work_done_value)+\"\\n (Updated)\"+str(work_done_value_eval)+ \"\\n staisfied\"\n",
        "    else:\n",
        "        sheet[x[i]+'10'] = work_done_certi+ \"\\n (Furnished)\" + str(work_done_value)+\"\\n (Updated)\"+str(work_done_value_eval)+ \"\\n not staisfied\"\n",
        "        if(comments[i] == \"None\"):\n",
        "            comments[i] = \"Work Done value Not satisfied\"\n",
        "        else:\n",
        "            comments[i] += \"\\n Work Done value Not satisfied\"\n",
        "    pplne = float(input(\"Pipe line: \"))\n",
        "    Pipeline_contractor.append(pplne)\n",
        "    if(pplne >= pip):\n",
        "        sheet[x[i]+'11'] = str(pplne)+ \"\\n satisfied\"\n",
        "    else:\n",
        "        sheet[x[i]+'11'] = str(pplne)+ \"\\n not satisfied\"\n",
        "        if(comments[i] == \"None\"):\n",
        "            comments[i] = \"Pipeline Requirement Not Satisfied \"\n",
        "        else:\n",
        "            comments[i] += \"\\n Pipeline Requirement Not Satisfied \"\n",
        "    conc = float(input(\"concrete: \"))\n",
        "    Concrete_contractor.append(conc)\n",
        "    if(conc >= Concrete):\n",
        "        sheet[x[i]+'12'] = str(conc)+ \"\\n satisfied\"\n",
        "    else:\n",
        "        sheet[x[i]+'12'] = str(conc)+ \"\\n not satisfied\"\n",
        "        if(comments[i] == \"None\"):\n",
        "            comments[i] = \"Concrete Requirement Not Satisfied \"\n",
        "        else:\n",
        "            comments[i] += \"\\n Concrete Requirement Not Satisfied \"\n",
        "    ucra = float(input(\"UCR: \"))\n",
        "    UCR_contractor.append(ucra)\n",
        "    if(ucra >= UCR):\n",
        "        sheet[x[i]+'13'] = str(ucra)+ \"\\n satisfied\"\n",
        "    else:\n",
        "        sheet[x[i]+'13'] = str(ucra)+ \"\\n not satisfied\"\n",
        "        if(comments[i] == \"None\"):\n",
        "            comments[i] = \"UCR Requirement Not Satisfied \"\n",
        "        else:\n",
        "            comments[i] += \"\\n UCR Requirement Not Satisfied \"\n",
        "    brica = float(input(\"Brick Masonry: \"))\n",
        "    Masonry_contractor.append(brica)\n",
        "    if(brica >= Bric):\n",
        "        sheet[x[i]+'14'] = str(brica)+ \"\\n satisfied\"\n",
        "    else:\n",
        "        sheet[x[i]+'14'] = str(brica)+ \"\\n not satisfied\"\n",
        "        if(comments[i] == \"None\"):\n",
        "            comments[i] = \"Brick Masonry Requirement Not Satisfied \"\n",
        "        else:\n",
        "            comments[i] += \"\\n Brick Masonry Not Satisfied \"\n",
        "    stea = float(input(\"Steel: \"))\n",
        "    Steel_contractor.append(stea)\n",
        "    if(stea >= Steel):\n",
        "        sheet[x[i]+'15'] = str(stea)+ \"\\n satisfied\"\n",
        "    else:\n",
        "        sheet[x[i]+'15'] = str(stea)+ \"\\n not satisfied\"\n",
        "        if(comments[i] == \"None\"):\n",
        "            comments[i] = \"Steel Requirement Not Satisfied \"\n",
        "        else:\n",
        "            comments[i] += \"\\n Steel Not Satisfied \"\n",
        "    pic = float(input(\"Pitching: \"))\n",
        "    Pitching_contractor.append(pic)\n",
        "    if(pic >= Pitch):\n",
        "        sheet[x[i]+'16'] = str(pic)+ \"\\n satisfied\"\n",
        "    else:\n",
        "        sheet[x[i]+'16'] = str(pic)+ \"\\n not satisfied\"\n",
        "        if(comments[i] == \"None\"):\n",
        "            comments[i] = \"Steel Requirement Not Satisfied \"\n",
        "        else:\n",
        "            comments[i] += \"\\n Steel Not Satisfied \"\n",
        "    if(end_year==2020):\n",
        "        A_i = float(input(\"Turnover of Year 2015-2016: \"))\n",
        "        B_i = float(input(\"Turnover of Year 2016-2017: \"))\n",
        "        C_i = float(input(\"Turnover of Year 2017-2018: \"))\n",
        "        D_i = float(input(\"Turnover of Year 2018-2019: \"))\n",
        "        E_i = float(input(\"Turnover of Year 2019-2020: \"))\n",
        "        A = A_i*1.46\n",
        "        B = B_i*1.33\n",
        "        C = C_i*1.21\n",
        "        D = D_i*1.10\n",
        "        E = E_i*1.00\n",
        "        sheet[x[i]+'17'] = \"(Furnishied) \"+ str(A_i)+ \"\\n (updated) \" + str(A)\n",
        "        sheet[x[i]+'18'] = \"(Furnishied) \"+ str(B_i)+ \"\\n (updated) \" + str(B)\n",
        "        sheet[x[i]+'19'] = \"(Furnishied) \"+ str(C_i)+ \"\\n (updated) \" + str(C)\n",
        "        sheet[x[i]+'20'] = \"(Furnishied) \"+ str(D_i)+ \"\\n (updated) \" + str(D)\n",
        "        sheet[x[i]+'21'] = \"(Furnishied) \"+ str(E_i)+ \"\\n (updated) \" + str(E)\n",
        "        maximum_turnover = maxi(A,B,C,D,E)\n",
        "        if(Amount_to_be_put <= 10000000):\n",
        "            ct_score = turnoverb100(A,B,C,D,E,Amount_to_be_put)\n",
        "        if(Amount_to_be_put> 10000000):\n",
        "            ct_score = trunovera100(A,B,C,D,E,Amount_to_be_put)\n",
        "        if(ct_score == 0):\n",
        "            if(comments[i] == \"None\"):\n",
        "                comment[i] = \"Turnover Requirement Not Satisfied \"\n",
        "            else:\n",
        "                comments[i] += \"\\n Turnover Requirement Not Satisfied \"\n",
        "    if(end_year==2021):\n",
        "        A_i = float(input(\"Turnover of Year 2015-2016: \"))\n",
        "        B_i = float(input(\"Turnover of Year 2016-2017: \"))\n",
        "        C_i = float(input(\"Turnover of Year 2017-2018: \"))\n",
        "        D_i = float(input(\"Turnover of Year 2018-2019: \"))\n",
        "        E_i = float(input(\"Turnover of Year 2019-2020: \"))\n",
        "        A = A_i*1.46\n",
        "        B = B_i*1.33\n",
        "        C = C_i*1.21\n",
        "        D = D_i*1.10\n",
        "        E = E_i*1.00\n",
        "        sheet[x[i]+'17'] = \"(Furnishied) \"+ str(A_i)+ \"\\n (updated) \" + str(A)\n",
        "        sheet[x[i]+'18'] = \"(Furnishied) \"+ str(B_i)+ \"\\n (updated) \" + str(B)\n",
        "        sheet[x[i]+'19'] = \"(Furnishied) \"+ str(C_i)+ \"\\n (updated) \" + str(C)\n",
        "        sheet[x[i]+'20'] = \"(Furnishied) \"+ str(D_i)+ \"\\n (updated) \" + str(D)\n",
        "        sheet[x[i]+'21'] = \"(Furnishied) \"+ str(E_i)+ \"\\n (updated) \" + str(E)\n",
        "        maximum_turnover = maxi(A,B,C,D,E)\n",
        "        if(Amount_to_be_put <= 10000000):\n",
        "            ct_score = turnoverb100(A,B,C,D,E,Amount_to_be_put)\n",
        "        if(Amount_to_be_put> 10000000):\n",
        "            ct_score = trunovera100(A,B,C,D,E,Amount_to_be_put)\n",
        "        if(ct_score == 0):\n",
        "            if(comments[i] == \"None\"):\n",
        "                comment[i] = \"Turnover Requirement Not Satisfied \"\n",
        "            else:\n",
        "                comments[i] += \"\\n Turnover Requirement Not Satisfied \"\n",
        "            \n",
        "    detail_ongng_work = float(input(\"Details of on going work: \"))\n",
        "    Details_ongoing_work.append(detail_ongng_work)\n",
        "    sheet[x[i]+'23'] = detail_ongng_work\n",
        "    bc = ((maximum_turnover/100000)*N*2.5)-detail_ongng_work\n",
        "    \n",
        "    if(bc < (Amount_to_be_put/100000) ):\n",
        "        sheet[x[i]+'22'] = str(bc) + \"\\n Not satisfied\"\n",
        "        if(comments[i] == \"None\"):\n",
        "            comments[i] = \"Bid Capacity Requirement Not Satisfied \"\n",
        "        else:\n",
        "            comments[i] += \"\\n Bid Capacity Not Satisfied \"\n",
        "    if(bc >= (Amount_to_be_put/100000) ):\n",
        "        sheet[x[i]+'22'] = str(bc) + \"\\n Satisfied\"\n",
        "            \n",
        "    bnk = input(\"Bank details: \")\n",
        "    Bank_details.append(bnk)\n",
        "    lc = float(input(\"LOC: \"))\n",
        "    Line_of_credit_contractor.append(lc)\n",
        "    condi = input(\"Conditionality (unconditional/conditional)\")\n",
        "    Satisfaction_contractor.append(condi)\n",
        "    \n",
        "    if((((Amount_to_be_put*0.3)/100000) <= lc) and condi == \"unconditional\"):\n",
        "        sheet[x[i]+'24'] = bnk +\"\\n\"+condi +\"\\n\" +str(lc) +\"\\n Satisfied\"\n",
        "    else:\n",
        "        sheet[x[i]+'24'] = bnk +\"\\n\"+condi +\"\\n\" +str(lc) +\"\\n Not Satisfied\"\n",
        "    \n",
        "    nm = input(\"Postal address: \")\n",
        "    Address.append(nm)\n",
        "    cn = input(\"contact number: \")\n",
        "    Contact_number.append(cn)\n",
        "    \n",
        "    sheet[x[i]+'25'] = nm +\"\\n\"+ cn\n",
        "    \n",
        "    if(comments[i] == \"None\"):\n",
        "        sheet[x[i]+'26'] = comments[i] +\"\\nTender can be approved\"\n",
        "    else:\n",
        "        sheet[x[i]+'26'] = comments[i] +\"\\nTender can not be approved due to above given details\"\n",
        "        \n",
        "        \n",
        "        \n",
        "        \n",
        "        \n",
        "    \n",
        "    \n",
        "    \n",
        "    \n",
        "        \n",
        "        \n",
        "        \n",
        "        \n",
        "                          \n",
        "                            \n",
        "                            \n",
        "    \n",
        "                            \n",
        "                            \n",
        "                            \n",
        "                            \n",
        "                        \n",
        "    \n",
        "    "
      ],
      "id": "a592b043",
      "execution_count": null,
      "outputs": [
        {
          "output_type": "stream",
          "text": [
            "Name of contractor 0 :M N Hosagoudar\n",
            "Class of Contractor: 1\n",
            "Scanned copy of PRED attached Y/N :Y\n",
            "Expiry date of PRED registration in YYYY-MM-DD format :2025-07-13\n",
            "PAN number: ADAPH1366F\n",
            "GST number: 29ADAPH1366F1ZT\n",
            "Certificate Authority: Executive Engineer RWS, Division Haveri\n",
            "Work done value: 20.40\n",
            "Pipe line: 3560.80\n",
            "concrete: 62.79\n",
            "UCR: 0\n",
            "Brick Masonry: 0\n",
            "Steel: 0\n",
            "Pitching: 0\n",
            "Turnover of Year 2015-2016: 6475916\n",
            "Turnover of Year 2016-2017: 9217138\n",
            "Turnover of Year 2017-2018: 6352278\n",
            "Turnover of Year 2018-2019: 0\n",
            "Turnover of Year 2019-2020: 0\n",
            "Details of on going work: 0\n",
            "Bank details: Union Bank Byadgi\n",
            "LOC: 16\n",
            "Conditionality (unconditional/conditional)unconditional\n",
            "Postal address: M N Hosagoudar \n",
            "contact number: 9741562172\n",
            "Name of contractor 1 :Deepak Industries\n",
            "Class of Contractor: 1\n",
            "Scanned copy of PRED attached Y/N :Y\n",
            "Expiry date of PRED registration in YYYY-MM-DD format :2025-04-23\n",
            "PAN number: AAFFD9276L\n",
            "GST number: 29AAFFD9276L1ZP\n",
            "Certificate Authority: Executive Engineer , DUDC Haveri\n",
            "Work done value: 54.71\n",
            "Pipe line: 11840.5\n",
            "concrete: 173.49\n",
            "UCR: 0\n",
            "Brick Masonry: 0\n",
            "Steel: 0\n",
            "Pitching: 0\n",
            "Turnover of Year 2015-2016: 14053768\n",
            "Turnover of Year 2016-2017: 32027394\n",
            "Turnover of Year 2017-2018: 30050563\n",
            "Turnover of Year 2018-2019: 54297959\n",
            "Turnover of Year 2019-2020: 0\n",
            "Details of on going work: 103.62\n",
            "Bank details: SBI Hubli\n",
            "LOC: 16\n",
            "Conditionality (unconditional/conditional)unconditional\n",
            "Postal address: S Peter\n",
            "contact number: 9448112853\n",
            "Name of contractor 2 :T S Waddar\n",
            "Class of Contractor: 1\n",
            "Scanned copy of PRED attached Y/N :Y\n",
            "Expiry date of PRED registration in YYYY-MM-DD format :2025-07-14\n",
            "PAN number: AAXPW9426H\n",
            "GST number: 29AAXPW9426H124\n",
            "Certificate Authority: Executive Engineer , RWS Haveri\n",
            "Work done value: 38.10\n",
            "Pipe line: 4000\n",
            "concrete: 66.73\n",
            "UCR: 0\n",
            "Brick Masonry: 0\n",
            "Steel: 0\n",
            "Pitching: 0\n",
            "Turnover of Year 2015-2016: 4031543\n",
            "Turnover of Year 2016-2017: 4964786\n",
            "Turnover of Year 2017-2018: 9685956\n",
            "Turnover of Year 2018-2019: 0\n",
            "Turnover of Year 2019-2020: 0\n",
            "Details of on going work: 105.73\n",
            "Bank details: Union Bank Byadgi\n",
            "LOC: 16\n",
            "Conditionality (unconditional/conditional)unconditional\n",
            "Postal address: T S Waddar\n",
            "contact number: 0\n"
          ],
          "name": "stdout"
        }
      ]
    },
    {
      "cell_type": "code",
      "metadata": {
        "id": "ad5ace73"
      },
      "source": [
        "workbook.save('Comparative Statement.xlsx')"
      ],
      "id": "ad5ace73",
      "execution_count": null,
      "outputs": []
    },
    {
      "cell_type": "code",
      "metadata": {
        "id": "95cd9c1a"
      },
      "source": [
        ""
      ],
      "id": "95cd9c1a",
      "execution_count": null,
      "outputs": []
    },
    {
      "cell_type": "code",
      "metadata": {
        "id": "a39e787a"
      },
      "source": [
        ""
      ],
      "id": "a39e787a",
      "execution_count": null,
      "outputs": []
    },
    {
      "cell_type": "code",
      "metadata": {
        "id": "274e7e2c"
      },
      "source": [
        ""
      ],
      "id": "274e7e2c",
      "execution_count": null,
      "outputs": []
    },
    {
      "cell_type": "markdown",
      "metadata": {
        "id": "ae61e132"
      },
      "source": [
        "#### proceedings"
      ],
      "id": "ae61e132"
    },
    {
      "cell_type": "code",
      "metadata": {
        "id": "6413740a"
      },
      "source": [
        ""
      ],
      "id": "6413740a",
      "execution_count": null,
      "outputs": []
    }
  ]
}